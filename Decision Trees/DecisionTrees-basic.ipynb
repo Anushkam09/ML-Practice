{
 "cells": [
  {
   "cell_type": "code",
   "execution_count": 44,
   "id": "beade6b2-e28c-4acf-af4f-3305b5980344",
   "metadata": {},
   "outputs": [],
   "source": [
    "from math import log\n",
    "import operator\n",
    "import matplotlib.pyplot as plt\n",
    "import pickle"
   ]
  },
  {
   "cell_type": "code",
   "execution_count": 2,
   "id": "df7a6a75-2d74-4bc7-ae4d-56b910d384d7",
   "metadata": {},
   "outputs": [],
   "source": [
    "def shannonEntropy(dataset):\n",
    "    n = len(dataset)\n",
    "    labelCounts = {}\n",
    "    for feature in dataset:\n",
    "        curr_label = feature[-1]\n",
    "        labelCounts[curr_label] = labelCounts.get(curr_label, 0) + 1\n",
    "    entropy = 0.0\n",
    "    for key in labelCounts:\n",
    "        prob = float(labelCounts[key]) / n\n",
    "        if prob > 0:\n",
    "            entropy -= prob * log(prob, 2)\n",
    "    return entropy"
   ]
  },
  {
   "cell_type": "code",
   "execution_count": 3,
   "id": "dc6b39c7-5698-42e8-8f6e-e11bdf0d8ba6",
   "metadata": {},
   "outputs": [],
   "source": [
    "def splitDataset(dataset, axis, value):\n",
    "    return_dataset = []\n",
    "    for feature in dataset:\n",
    "        if feature[axis] == value:\n",
    "            reduced_feature = feature[:axis]\n",
    "            reduced_feature.extend(feature[axis+1:])\n",
    "            return_dataset.append(reduced_feature)\n",
    "    return return_dataset        "
   ]
  },
  {
   "cell_type": "code",
   "execution_count": 4,
   "id": "ea19f352-cc50-476a-8db8-7c4f4b230de9",
   "metadata": {},
   "outputs": [],
   "source": [
    "def chooseBestFeatureForSplit(dataset):\n",
    "    n = len(dataset[0]) - 1\n",
    "    base_entropy = shannonEntropy(dataset)\n",
    "    best_info_gain = 0.0\n",
    "    best_feature = -1\n",
    "    for i in range(n):\n",
    "        feature_list = [j[i] for j in dataset]\n",
    "        unique_vals = set(feature_list)\n",
    "        new_entropy = 0.0\n",
    "        for val in unique_vals:\n",
    "            sub_dataset = splitDataset(dataset, i, val)\n",
    "            prob = len(sub_dataset)/float(len(dataset))\n",
    "            new_entropy += prob* shannonEntropy(sub_dataset)\n",
    "        info_gain = base_entropy - new_entropy\n",
    "        if info_gain > best_info_gain:\n",
    "            best_info_gain = info_gain\n",
    "            best_feature = i\n",
    "    return best_feature            "
   ]
  },
  {
   "cell_type": "code",
   "execution_count": 5,
   "id": "be34330c-344d-48b0-bb21-8d9428bfe0fd",
   "metadata": {},
   "outputs": [],
   "source": [
    "def majority_count(classList):\n",
    "    classCount = {}\n",
    "    for vote in classList:\n",
    "        classCount[vote] = classCount.get(vote,0) + 1\n",
    "    sortedClassCount = sorted(classCount.items(), key = operator.itemgetter(1), reverse = True)\n",
    "    return sortedClassCount[0][0]"
   ]
  },
  {
   "cell_type": "code",
   "execution_count": 6,
   "id": "9f8f692e-65a9-4701-bd30-c9d90a76a188",
   "metadata": {},
   "outputs": [],
   "source": [
    "def createTree(dataset, labels):\n",
    "    classList = [j[-1] for j in dataset]\n",
    "    if classList.count(classList[0]) == len(classList):\n",
    "        return classList[0]\n",
    "    if len(dataset[0]) == 1:\n",
    "        return majority_count(classList)\n",
    "    best_feature= chooseBestFeatureForSplit(dataset)\n",
    "    best_feature_label = labels[best_feature]\n",
    "    my_tree = {best_feature_label: {}}\n",
    "    del(labels[best_feature])\n",
    "    feature_values = [j[best_feature] for j in dataset]\n",
    "    unique = set(feature_values)\n",
    "    for value in unique:\n",
    "        sub_labels = labels[:]\n",
    "        my_tree[best_feature_label][value] = createTree(splitDataset(dataset,best_feature, value), sub_labels)\n",
    "    return my_tree\n",
    "    "
   ]
  },
  {
   "cell_type": "code",
   "execution_count": 7,
   "id": "7b7f37ef-59e8-4779-8331-5e05f41ca8d7",
   "metadata": {},
   "outputs": [],
   "source": [
    "def createplot(tree):\n",
    "    decisionNode = dict(boxstyle = \"sawtooth\", fc = \"0.8\")\n",
    "    leafNode = dict(boxstyle = \"round4\", fc = \"0.8\")\n",
    "    arrow_args = dict(arrowstyle = \"<-\")\n",
    "\n",
    "    def plotMidText(cntrPt, parentPt, txt):\n",
    "        xMid = (parentPt[0]-cntrPt[0])/2.0 + cntrPt[0]\n",
    "        yMid = (parentPt[1]-cntrPt[1])/2.0 + cntrPt[1]\n",
    "        createplot.ax1.text(xMid, yMid, txt)    \n",
    "\n",
    "    def plotNode(nodeTxt, centerPt, parentPt, nodeType):\n",
    "        createplot.ax1.annotate(nodeTxt, xy = parentPt, xycoords = 'axes fraction', xytext= centerPt, textcoords = 'axes fraction', va = 'center', ha = 'center', bbox = nodeType, arrowprops = arrow_args)\n",
    "\n",
    "    def getNumLeafs(tree):\n",
    "        num_leafs = 0\n",
    "        first_str = list(tree.keys())[0]\n",
    "        second_dict = tree[first_str]\n",
    "        for key in second_dict.keys():\n",
    "            if type(second_dict[key]).__name__ == 'dict':\n",
    "                num_leafs += getNumLeafs(second_dict[key])\n",
    "            else:\n",
    "                num_leafs += 1\n",
    "        return num_leafs\n",
    "\n",
    "    def getTreeDepth(tree):\n",
    "        max_depth = 0\n",
    "        first_str = list(tree.keys())[0]\n",
    "        second_dict = tree[first_str]\n",
    "        for key in second_dict.keys():\n",
    "            if type(second_dict[key]).__name__ == 'dict':\n",
    "                this_depth = 1+ getTreeDepth(second_dict[key])\n",
    "            else:\n",
    "                this_depth = 1\n",
    "            max_depth = max(max_depth, this_depth)\n",
    "        return max_depth\n",
    "\n",
    "    \n",
    "    def plotTree(tree, parentpt, nodetxt):\n",
    "        numLeafs = getNumLeafs(tree)\n",
    "        depth = getTreeDepth(tree)\n",
    "        first_str = list(tree.keys())[0]\n",
    "        cntrPt = (plotTree.xOff + (1.0 + float(numLeafs))/2.0/plotTree.totalW, plotTree.yOff)\n",
    "        plotMidText(cntrPt, parentpt, nodetxt)\n",
    "        plotNode(first_str, cntrPt, parentpt, decisionNode)\n",
    "        second_dict = tree[first_str]\n",
    "        plotTree.yOff = plotTree.yOff - 1.0/plotTree.totalD\n",
    "        for key in second_dict.keys():\n",
    "            if type(second_dict[key]).__name__ == 'dict':\n",
    "                plotTree(second_dict[key], cntrPt, str(key))\n",
    "            else:\n",
    "                plotTree.xOff = plotTree.xOff + 1.0/plotTree.totalW\n",
    "                plotNode(second_dict[key], (plotTree.xOff, plotTree.yOff), cntrPt, leafNode)\n",
    "                plotMidText((plotTree.xOff, plotTree.yOff), cntrPt, str(key))\n",
    "        plotTree.yOff = plotTree.yOff - 1.0/plotTree.totalD\n",
    "    \n",
    "    fig = plt.figure(1, facecolor = \"white\")\n",
    "    fig.clf()\n",
    "    axprops = dict(xticks = [], yticks = [])\n",
    "    createplot.ax1 = plt.subplot(111, frameon = False, **axprops)\n",
    "    plotTree.totalW = getNumLeafs(tree)\n",
    "    plotTree.totalD = getTreeDepth(tree)\n",
    "    plotTree.xOff = -0.5/plotTree.totalW; plotTree.yOff = 1.0;\n",
    "    plotTree(tree, (0.5,1.0), '')\n",
    "    plt.show()"
   ]
  },
  {
   "cell_type": "code",
   "execution_count": 17,
   "id": "3c7e96fe-f49d-4553-ae70-8be436acb899",
   "metadata": {},
   "outputs": [],
   "source": [
    "def classify(tree, labels, test_vector):\n",
    "    first_str = list(tree.keys())[0]\n",
    "    second_dict = tree[first_str]\n",
    "    ind = labels.index(first_str)\n",
    "    for key in second_dict.keys():\n",
    "        if test_vector[ind] == key:\n",
    "            if type(second_dict[key]).__name__ == 'dict':\n",
    "                class_label = classify(second_dict[key], labels, test_vector)\n",
    "            else:\n",
    "                class_label = second_dict[key]\n",
    "    return class_label\n",
    "    "
   ]
  },
  {
   "cell_type": "code",
   "execution_count": 48,
   "id": "89d42dea-1990-416c-9d19-5da868c0c9d8",
   "metadata": {},
   "outputs": [],
   "source": [
    "def storeTree(tree, filename):\n",
    "    fw = open(filename, 'wb')\n",
    "    pickle.dump(tree, fw)\n",
    "    fw.close()"
   ]
  },
  {
   "cell_type": "code",
   "execution_count": 51,
   "id": "c56da18a-92b2-4a2b-9238-dee3369cdc85",
   "metadata": {},
   "outputs": [],
   "source": [
    "def loadTree(filename):\n",
    "    fr = open(filename, 'rb')\n",
    "    return pickle.load(fr)"
   ]
  },
  {
   "cell_type": "code",
   "execution_count": 20,
   "id": "4bf0f29c-2443-4e65-b28a-94434252267f",
   "metadata": {},
   "outputs": [],
   "source": [
    "def createDataset():\n",
    "    dataset = [[1,1, 'yes'],\n",
    "               [1,1, 'yes'],\n",
    "               [1,0, 'no'],\n",
    "               [0,1, 'no'],\n",
    "               [0,1, 'no']]\n",
    "    labels = ['no surfacing', 'flippers']\n",
    "    return dataset, labels"
   ]
  },
  {
   "cell_type": "code",
   "execution_count": 54,
   "id": "ee977ddd-81f0-49fe-8085-f93d86282828",
   "metadata": {},
   "outputs": [],
   "source": [
    "my_data, my_labels = createDataset()"
   ]
  },
  {
   "cell_type": "code",
   "execution_count": 55,
   "id": "23bf1142-f5e3-4d34-a468-8ee123d01519",
   "metadata": {},
   "outputs": [
    {
     "data": {
      "text/plain": [
       "[[1, 1, 'yes'], [1, 1, 'yes'], [1, 0, 'no'], [0, 1, 'no'], [0, 1, 'no']]"
      ]
     },
     "execution_count": 55,
     "metadata": {},
     "output_type": "execute_result"
    }
   ],
   "source": [
    "my_data"
   ]
  },
  {
   "cell_type": "code",
   "execution_count": 56,
   "id": "fe4ff8c8-0bbb-4309-8a2d-369cb72c6f6a",
   "metadata": {},
   "outputs": [
    {
     "data": {
      "text/plain": [
       "['no surfacing', 'flippers']"
      ]
     },
     "execution_count": 56,
     "metadata": {},
     "output_type": "execute_result"
    }
   ],
   "source": [
    "my_labels"
   ]
  },
  {
   "cell_type": "code",
   "execution_count": 58,
   "id": "b482179b-d7e3-461a-9e70-68ba7662386d",
   "metadata": {},
   "outputs": [],
   "source": [
    "my_tree = createTree(my_data, my_labels[:])"
   ]
  },
  {
   "cell_type": "code",
   "execution_count": 59,
   "id": "15f40920-ed0c-487e-9d09-58d5574e5695",
   "metadata": {},
   "outputs": [
    {
     "data": {
      "text/plain": [
       "{'no surfacing': {0: 'no', 1: {'flippers': {0: 'no', 1: 'yes'}}}}"
      ]
     },
     "execution_count": 59,
     "metadata": {},
     "output_type": "execute_result"
    }
   ],
   "source": [
    "my_tree"
   ]
  },
  {
   "cell_type": "code",
   "execution_count": 60,
   "id": "52ef47a6-bcfa-4b40-bf6e-b5d3b67b2c0d",
   "metadata": {},
   "outputs": [
    {
     "data": {
      "image/png": "[encoded data removed]",
      "text/plain": [
       "<Figure size 640x480 with 1 Axes>"
      ]
     },
     "metadata": {},
     "output_type": "display_data"
    }
   ],
   "source": [
    "createplot(my_tree)"
   ]
  },
  {
   "cell_type": "code",
   "execution_count": 62,
   "id": "b459ed4a-1c61-4361-98c3-bf18125ed042",
   "metadata": {},
   "outputs": [
    {
     "data": {
      "text/plain": [
       "'no'"
      ]
     },
     "execution_count": 62,
     "metadata": {},
     "output_type": "execute_result"
    }
   ],
   "source": [
    "classify(my_tree, my_labels, [1,0])"
   ]
  },
  {
   "cell_type": "code",
   "execution_count": 63,
   "id": "2201712c-64e5-44a0-84ce-2e40aba56d87",
   "metadata": {},
   "outputs": [
    {
     "data": {
      "text/plain": [
       "'yes'"
      ]
     },
     "execution_count": 63,
     "metadata": {},
     "output_type": "execute_result"
    }
   ],
   "source": [
    "classify(my_tree, my_labels, [1,1])"
   ]
  },
  {
   "cell_type": "code",
   "execution_count": 64,
   "id": "f0ce5953-d7c9-4a22-80bf-ad75108ce328",
   "metadata": {},
   "outputs": [
    {
     "data": {
      "text/plain": [
       "'no'"
      ]
     },
     "execution_count": 64,
     "metadata": {},
     "output_type": "execute_result"
    }
   ],
   "source": [
    "classify(my_tree, my_labels, [0,0])"
   ]
  },
  {
   "cell_type": "code",
   "execution_count": 65,
   "id": "dda6d97b-02d7-4e6a-8c6c-dbf03d84600d",
   "metadata": {},
   "outputs": [
    {
     "data": {
      "text/plain": [
       "'no'"
      ]
     },
     "execution_count": 65,
     "metadata": {},
     "output_type": "execute_result"
    }
   ],
   "source": [
    "classify(my_tree, my_labels, [0,1])"
   ]
  },
  {
   "cell_type": "code",
   "execution_count": 66,
   "id": "05352576-6796-4dd5-af12-454551ed4bff",
   "metadata": {},
   "outputs": [],
   "source": [
    "storeTree(my_tree, 'BasicTree.txt')"
   ]
  },
  {
   "cell_type": "code",
   "execution_count": 67,
   "id": "1e645920-4532-495f-b91c-25b960a43f81",
   "metadata": {},
   "outputs": [
    {
     "data": {
      "text/plain": [
       "{'no surfacing': {0: 'no', 1: {'flippers': {0: 'no', 1: 'yes'}}}}"
      ]
     },
     "execution_count": 67,
     "metadata": {},
     "output_type": "execute_result"
    }
   ],
   "source": [
    "loadTree('BasicTree.txt')"
   ]
  },
  {
   "cell_type": "code",
   "execution_count": null,
   "id": "6a6ee256-e6a9-47a1-b12e-55e9d925ce40",
   "metadata": {},
   "outputs": [],
   "source": []
  }
 ],
 "metadata": {
  "kernelspec": {
   "display_name": "Python 3 (ipykernel)",
   "language": "python",
   "name": "python3"
  },
  "language_info": {
   "codemirror_mode": {
    "name": "ipython",
    "version": 3
   },
   "file_extension": ".py",
   "mimetype": "text/x-python",
   "name": "python",
   "nbconvert_exporter": "python",
   "pygments_lexer": "ipython3",
   "version": "3.12.5"
  }
 },
 "nbformat": 4,
 "nbformat_minor": 5
}
