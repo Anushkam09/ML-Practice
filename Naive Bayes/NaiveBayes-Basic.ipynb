{
 "cells": [
  {
   "cell_type": "code",
   "execution_count": 1,
   "id": "3a4eefaf-4496-47a2-b717-3e0f8d4984e5",
   "metadata": {},
   "outputs": [],
   "source": [
    "from numpy import *"
   ]
  },
  {
   "cell_type": "code",
   "execution_count": 2,
   "id": "b70d6f5e-613b-4d43-b7c2-2355d488d4b3",
   "metadata": {},
   "outputs": [],
   "source": [
    "def classify(vec_to_classify, p0vec, p1vec, pclass1):\n",
    "    p1 = sum(vec_to_classify*p1vec) + log(pclass1)\n",
    "    p0 = sum(vec_to_classify*p0vec) + log(1.0 - pclass1)\n",
    "    if p1 > p0:\n",
    "        return 1\n",
    "    return 0"
   ]
  },
  {
   "cell_type": "code",
   "execution_count": 3,
   "id": "feead74c-4eb4-4204-ad5c-25f8601f7f6c",
   "metadata": {},
   "outputs": [],
   "source": [
    "def trainNaiveBayes(training_mat, labels):\n",
    "    num_docs = len(training_mat)\n",
    "    num_words = len(training_mat[0])\n",
    "    p_abusive = sum(labels)/float(num_docs)\n",
    "    p0_num = ones(num_words)\n",
    "    p1_num = ones(num_words)\n",
    "    p0denom = 2.0\n",
    "    p1denom = 2.0\n",
    "    for i in range(num_docs):\n",
    "        if labels[i] == 1:\n",
    "            p1_num += training_mat[i]\n",
    "            p1denom += sum(training_mat[i])\n",
    "        else:\n",
    "            p0_num += training_mat[i]\n",
    "            p0denom += sum(training_mat[i])\n",
    "    p1vect = log(p1_num/p1denom)\n",
    "    p0vect = log(p0_num/p0denom)\n",
    "    return p0vect, p1vect, p_abusive\n",
    "            "
   ]
  },
  {
   "cell_type": "code",
   "execution_count": 4,
   "id": "b7971e01-2ff7-4505-911a-0515a81af6bb",
   "metadata": {},
   "outputs": [],
   "source": [
    "def loadDataSet():\n",
    "    postingList = [['my', 'dog', 'has', 'flea', 'problems','help', 'please'],\n",
    "                  ['maybe','not','take','him','to','park','stupid'],\n",
    "                   ['my', 'dalmation', 'is', 'so', 'cute', 'I', 'love', 'him'],\n",
    "                   ['stop', 'posting', 'stupid', 'worthless', 'garbage'],\n",
    "                   ['mr', 'licks', 'ate', 'my', 'steak', 'how', 'to', 'stop', 'him'],\n",
    "                   ['quit', 'buying', 'worthless', 'dog', 'food', 'stupid']]\n",
    "    labels = [0,1,0,1,0,1]\n",
    "    return postingList, labels"
   ]
  },
  {
   "cell_type": "code",
   "execution_count": 5,
   "id": "7031d3b3-40da-4c9b-a182-aed439290c42",
   "metadata": {},
   "outputs": [],
   "source": [
    "def createVocabList(dataset):\n",
    "    vocab = set([])\n",
    "    for document in dataset:\n",
    "        vocab = vocab | set(document)\n",
    "    return list(vocab)"
   ]
  },
  {
   "cell_type": "code",
   "execution_count": 6,
   "id": "9f239322-62e7-4396-a4e4-a81b002a373f",
   "metadata": {},
   "outputs": [],
   "source": [
    "def wordsToVec(vocab, inputset):\n",
    "    vector = [0]*len(vocab)\n",
    "    for word in inputset:\n",
    "        if word in vocab:\n",
    "            vector[vocab.index(word)] = 1\n",
    "        else:\n",
    "            print(\"Word not found in vocabulary: \", word)\n",
    "    return vector"
   ]
  },
  {
   "cell_type": "code",
   "execution_count": 7,
   "id": "320be210-a06b-4b57-ac33-743013ce7e7b",
   "metadata": {},
   "outputs": [],
   "source": [
    "def bagofWordstoVec(vocab, test_set):\n",
    "    returnVec = [0]*len(vocab)\n",
    "    for word in test_set:\n",
    "        if word in vocab:\n",
    "            returnVec[vocab.index(word)] += 1\n",
    "    return returnVec            "
   ]
  },
  {
   "cell_type": "code",
   "execution_count": 8,
   "id": "5679024f-ac7c-4445-b137-6119481e548c",
   "metadata": {},
   "outputs": [],
   "source": [
    "def testing(test_entry):\n",
    "    posts, labels = loadDataSet()\n",
    "    my_vocab = createVocabList(posts)\n",
    "    train_mat = []\n",
    "    for i in posts:\n",
    "        train_mat.append(bagofWordstoVec(my_vocab,i))\n",
    "    p0V, p1V, pAb = trainNaiveBayes(array(train_mat),array(labels))\n",
    "    this_doc = array(wordsToVec(my_vocab, test_entry))\n",
    "    print(f\"{test_entry} classified as: {classify(this_doc, p0V, p1V, pAb)}\")    "
   ]
  },
  {
   "cell_type": "code",
   "execution_count": 9,
   "id": "7e6386c3-5632-43e2-87c3-718b49cfa7bc",
   "metadata": {},
   "outputs": [
    {
     "name": "stdout",
     "output_type": "stream",
     "text": [
      "['my', 'stupid', 'dog'] classified as: 1\n"
     ]
    }
   ],
   "source": [
    "testing([\"my\" ,\"stupid\", \"dog\"])"
   ]
  },
  {
   "cell_type": "code",
   "execution_count": 10,
   "id": "ec8d05c0-bae2-4889-b3f3-c03f99731bf0",
   "metadata": {},
   "outputs": [
    {
     "name": "stdout",
     "output_type": "stream",
     "text": [
      "['love', 'cute', 'dog'] classified as: 0\n"
     ]
    }
   ],
   "source": [
    "testing([\"love\" ,\"cute\", \"dog\"])"
   ]
  }
 ],
 "metadata": {
  "kernelspec": {
   "display_name": "Python 3 (ipykernel)",
   "language": "python",
   "name": "python3"
  },
  "language_info": {
   "codemirror_mode": {
    "name": "ipython",
    "version": 3
   },
   "file_extension": ".py",
   "mimetype": "text/x-python",
   "name": "python",
   "nbconvert_exporter": "python",
   "pygments_lexer": "ipython3",
   "version": "3.12.5"
  }
 },
 "nbformat": 4,
 "nbformat_minor": 5
}
